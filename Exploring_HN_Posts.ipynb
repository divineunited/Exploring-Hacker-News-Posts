{
 "cells": [
  {
   "cell_type": "markdown",
   "metadata": {},
   "source": [
    "# Exploring Hacker News Posts\n",
    "\n",
    "This data exploration will be analyzing posts from the site Hacker News from the year 2016. The dataset we will be analyzing can be found [here](https://www.kaggle.com/hacker-news/hacker-news-posts). \n",
    "\n",
    "In this project, I will be using basic Python libraries and basic modules that don't require any extraneous installation - even though using a module like Pandas and/or MatPlotLib might make this analysis more efficient.\n",
    "\n",
    "The columns in the dataset can be described as follows:\n",
    "- `id` - The unique identifier from Hacker News for the post\n",
    "- `title` - The title of the post\n",
    "- `url` - The URL that the posts links to, if it the post has a URL\n",
    "- `num_points` - The number of points the post acquired, calculated as the total number of upvotes minus the total number of downvotes\n",
    "- `num_comments` - The number of comments that were made on the post\n",
    "- `author` - The username of the person who submitted the post\n",
    "- `created_at` - The date and time at which the post was submitted\n",
    "\n",
    "We're specifically interested in posts whose titles begin with either `Ask HN` or `Show HN`. Users submit `Ask HN` posts to ask the Hacker News community a specific question. And users submit `Show HN` posts to show the Hacker News community a project, product, or just generally something interesting.\n",
    "\n",
    "Let's compare these two types of posts to determine the following:\n",
    "\n",
    "- **Do `Ask HN` or `Show HN` receive more comments on average?**\n",
    "- **Do posts created at a certain time receive more comments on average?**\n",
    "\n",
    "First, we'll import the dataset as a list of lists and display the first five rows."
   ]
  },
  {
   "cell_type": "code",
   "execution_count": 1,
   "metadata": {},
   "outputs": [
    {
     "name": "stdout",
     "output_type": "stream",
     "text": [
      "['id', 'title', 'url', 'num_points', 'num_comments', 'author', 'created_at']\n",
      "\n",
      "[['12579008', 'You have two days to comment if you want stem cells to be classified as your own', 'http://www.regulations.gov/document?D=FDA-2015-D-3719-0018', '1', '0', 'altstar', '9/26/2016 3:26'], ['12579005', 'SQLAR  the SQLite Archiver', 'https://www.sqlite.org/sqlar/doc/trunk/README.md', '1', '0', 'blacksqr', '9/26/2016 3:24'], ['12578997', 'What if we just printed a flatscreen television on the side of our boxes?', 'https://medium.com/vanmoof/our-secrets-out-f21c1f03fdc8#.ietxmez43', '1', '0', 'pavel_lishin', '9/26/2016 3:19'], ['12578989', 'algorithmic music', 'http://cacm.acm.org/magazines/2011/7/109891-algorithmic-composition/fulltext', '1', '0', 'poindontcare', '9/26/2016 3:16'], ['12578979', 'How the Data Vault Enables the Next-Gen Data Warehouse and Data Lake', 'https://www.talend.com/blog/2016/05/12/talend-and-Â\\x93the-data-vaultÂ\\x94', '1', '0', 'markgainor1', '9/26/2016 3:14']]\n"
     ]
    }
   ],
   "source": [
    "import csv\n",
    "\n",
    "hn = list(csv.reader(open('HN_posts_year_to_Sep_26_2016.csv', encoding=\"utf-8\")))\n",
    "\n",
    "# saving the header seperately \n",
    "header = hn[0]\n",
    "\n",
    "# removing the header from the main dataset\n",
    "hn = hn[1:]\n",
    "\n",
    "print(header)\n",
    "print()\n",
    "print(hn[0:5])"
   ]
  },
  {
   "cell_type": "markdown",
   "metadata": {},
   "source": [
    "Now, we're going to use regular expressions to filter out articles that begin with `Ask HN` or `Show HN`:"
   ]
  },
  {
   "cell_type": "code",
   "execution_count": 9,
   "metadata": {},
   "outputs": [
    {
     "name": "stdout",
     "output_type": "stream",
     "text": [
      "Ask HN articles: 9139 \n",
      " ['Ask HN: What TLD do you use for local development?', 'Ask HN: How do you pass on your work when you die?', 'Ask HN: How a DNS problem can be limited to a geographic region?', 'Ask HN: Why join a fund when you can be an angel?', 'Ask HN: Someone uses stock trading as passive income?'] \n",
      "\n",
      "Show HN articles: 10158 \n",
      " ['Show HN: Finding puns computationally', 'Show HN: A simple library for complicated animations', 'Show HN: WebGL visualization of DNA sequences', 'Show HN: Pomodoro-centric, heirarchical project management with ES6 modules', 'Show HN: Jumble  Essays on the go #PaulInYourPocket'] \n",
      "\n",
      "Other articles: 273822 \n",
      " ['You have two days to comment if you want stem cells to be classified as your own', 'SQLAR  the SQLite Archiver', 'What if we just printed a flatscreen television on the side of our boxes?', 'algorithmic music', 'How the Data Vault Enables the Next-Gen Data Warehouse and Data Lake'] \n",
      "\n"
     ]
    }
   ],
   "source": [
    "import re\n",
    "\n",
    "ask_posts, show_posts, other_posts = [], [], []\n",
    "\n",
    "# creating our re patterns that look for articles that start with the appropriate texts\n",
    "pattern_ask = r'^Ask HN'\n",
    "pattern_show = r'^Show HN'\n",
    "\n",
    "# filtering out articles into 3 different types using list comprehensions and regex\n",
    "ask_posts = [row for row in hn if re.search(pattern_ask, row[1], flags = re.I)]\n",
    "show_posts = [row for row in hn if re.search(pattern_show, row[1], flags = re.I)]\n",
    "other_posts = [row for row in hn if not (re.search(pattern_ask, row[1], flags = re.I) or re.search(pattern_show, row[1], flags = re.I))]\n",
    "\n",
    "# test printing titles:\n",
    "print('Ask HN articles:', len(ask_posts), '\\n', [row[1] for row in ask_posts[0:5]], '\\n')\n",
    "print('Show HN articles:', len(show_posts), '\\n', [row[1] for row in show_posts[0:5]], '\\n')\n",
    "print('Other articles:', len(other_posts), '\\n', [row[1] for row in other_posts[0:5]], '\\n')"
   ]
  },
  {
   "cell_type": "markdown",
   "metadata": {},
   "source": []
  }
 ],
 "metadata": {
  "kernelspec": {
   "display_name": "Python 3",
   "language": "python",
   "name": "python3"
  },
  "language_info": {
   "codemirror_mode": {
    "name": "ipython",
    "version": 3
   },
   "file_extension": ".py",
   "mimetype": "text/x-python",
   "name": "python",
   "nbconvert_exporter": "python",
   "pygments_lexer": "ipython3",
   "version": "3.7.2"
  }
 },
 "nbformat": 4,
 "nbformat_minor": 2
}
